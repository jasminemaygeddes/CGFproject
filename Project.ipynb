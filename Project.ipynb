{
 "cells": [
  {
   "cell_type": "code",
   "execution_count": 45,
   "metadata": {},
   "outputs": [
    {
     "name": "stdout",
     "output_type": "stream",
     "text": [
      "\n",
      "Your pockemons:\n",
      "\n",
      "Pockemon number 1:\n",
      "\n",
      "Name: Dooku\n"
     ]
    },
    {
     "ename": "KeyError",
     "evalue": "'mass'",
     "output_type": "error",
     "traceback": [
      "\u001b[0;31m---------------------------------------------------------------------------\u001b[0m",
      "\u001b[0;31mKeyError\u001b[0m                                  Traceback (most recent call last)",
      "\u001b[1;32m/home/kiri/CGFproject/Project.ipynb Cell 1\u001b[0m line \u001b[0;36m5\n\u001b[1;32m     <a href='vscode-notebook-cell://wsl%2Bubuntu/home/kiri/CGFproject/Project.ipynb#W1sdnNjb2RlLXJlbW90ZQ%3D%3D?line=51'>52</a>\u001b[0m userPockemonList\u001b[39m.\u001b[39mappend(getStarwars(Choose_Card())) \n\u001b[1;32m     <a href='vscode-notebook-cell://wsl%2Bubuntu/home/kiri/CGFproject/Project.ipynb#W1sdnNjb2RlLXJlbW90ZQ%3D%3D?line=53'>54</a>\u001b[0m \u001b[39mprint\u001b[39m(\u001b[39mf\u001b[39m\u001b[39m'\u001b[39m\u001b[39m\\n\u001b[39;00m\u001b[39mPockemon number \u001b[39m\u001b[39m{\u001b[39;00mi\u001b[39m \u001b[39m\u001b[39m+\u001b[39m\u001b[39m \u001b[39m\u001b[39m1\u001b[39m\u001b[39m}\u001b[39;00m\u001b[39m:\u001b[39m\u001b[39m\\n\u001b[39;00m\u001b[39m'\u001b[39m)\n\u001b[0;32m---> <a href='vscode-notebook-cell://wsl%2Bubuntu/home/kiri/CGFproject/Project.ipynb#W1sdnNjb2RlLXJlbW90ZQ%3D%3D?line=54'>55</a>\u001b[0m showCards(userPockemonList[i])\n\u001b[1;32m     <a href='vscode-notebook-cell://wsl%2Bubuntu/home/kiri/CGFproject/Project.ipynb#W1sdnNjb2RlLXJlbW90ZQ%3D%3D?line=56'>57</a>\u001b[0m \u001b[39m# fill the computer pockemon list\u001b[39;00m\n\u001b[1;32m     <a href='vscode-notebook-cell://wsl%2Bubuntu/home/kiri/CGFproject/Project.ipynb#W1sdnNjb2RlLXJlbW90ZQ%3D%3D?line=57'>58</a>\u001b[0m computerPockemonList\u001b[39m.\u001b[39mappend(getStarwars(Choose_Card())) \n",
      "\u001b[1;32m/home/kiri/CGFproject/Project.ipynb Cell 1\u001b[0m line \u001b[0;36m2\n\u001b[1;32m     <a href='vscode-notebook-cell://wsl%2Bubuntu/home/kiri/CGFproject/Project.ipynb#W1sdnNjb2RlLXJlbW90ZQ%3D%3D?line=20'>21</a>\u001b[0m \u001b[39mdef\u001b[39;00m \u001b[39mshowCards\u001b[39m(\u001b[39mdict\u001b[39m):\n\u001b[1;32m     <a href='vscode-notebook-cell://wsl%2Bubuntu/home/kiri/CGFproject/Project.ipynb#W1sdnNjb2RlLXJlbW90ZQ%3D%3D?line=21'>22</a>\u001b[0m     \u001b[39mprint\u001b[39m(\u001b[39mf\u001b[39m\u001b[39m\"\u001b[39m\u001b[39mName: \u001b[39m\u001b[39m{\u001b[39;00m\u001b[39mdict\u001b[39m[\u001b[39m'\u001b[39m\u001b[39mname\u001b[39m\u001b[39m'\u001b[39m]\u001b[39m}\u001b[39;00m\u001b[39m\"\u001b[39m)\n\u001b[0;32m---> <a href='vscode-notebook-cell://wsl%2Bubuntu/home/kiri/CGFproject/Project.ipynb#W1sdnNjb2RlLXJlbW90ZQ%3D%3D?line=22'>23</a>\u001b[0m     \u001b[39mprint\u001b[39m(\u001b[39mf\u001b[39m\u001b[39m\"\u001b[39m\u001b[39mWeight: \u001b[39m\u001b[39m{\u001b[39;00m\u001b[39mdict\u001b[39;49m[\u001b[39m'\u001b[39;49m\u001b[39mmass\u001b[39;49m\u001b[39m'\u001b[39;49m]\u001b[39m}\u001b[39;00m\u001b[39m\"\u001b[39m)\n\u001b[1;32m     <a href='vscode-notebook-cell://wsl%2Bubuntu/home/kiri/CGFproject/Project.ipynb#W1sdnNjb2RlLXJlbW90ZQ%3D%3D?line=23'>24</a>\u001b[0m     \u001b[39mprint\u001b[39m(\u001b[39mf\u001b[39m\u001b[39m\"\u001b[39m\u001b[39mHeight: \u001b[39m\u001b[39m{\u001b[39;00m\u001b[39mdict\u001b[39m[\u001b[39m'\u001b[39m\u001b[39mheight\u001b[39m\u001b[39m'\u001b[39m]\u001b[39m}\u001b[39;00m\u001b[39m\"\u001b[39m)\n",
      "\u001b[0;31mKeyError\u001b[0m: 'mass'"
     ]
    }
   ],
   "source": [
    "import random\n",
    "import requests\n",
    "\n",
    "def getStarwars(id):\n",
    "\n",
    "    url = f'https://swapi.dev/api/people/{id}/'\n",
    "    response = requests.get(url)\n",
    "    starwars = response.json()\n",
    "\n",
    "    return {\n",
    "        'name': starwars['name'],\n",
    "        'height': starwars['height'],\n",
    "        'weight': starwars['mass']\n",
    "    }\n",
    "\n",
    "def Choose_Card():\n",
    "  return random.randint(1, 83)\n",
    "\n",
    "Choose_card = 'id'\n",
    "\n",
    "def showCards(dict):\n",
    "    print(f\"Name: {dict['name']}\")\n",
    "    print(f\"Weight: {dict['mass']}\")\n",
    "    print(f\"Height: {dict['height']}\")\n",
    "\n",
    "\n",
    "userScore = 0\n",
    "computerScore = 0\n",
    "answer = 'y'\n",
    "greetingMsg = 'Do you want to play again?(y/n): '\n",
    "# start game \n",
    "while answer == 'y':\n",
    "    userAnswer = input(greetingMsg).lower()\n",
    "    answer = userAnswer\n",
    "    \n",
    "    # check user's answer\n",
    "    if userAnswer == 'y':\n",
    "        # ask user how many cards he/she wants to play with\n",
    "        cardsNumber = int(input('How many cards do you want to play with?(min: 1; max: 5): '))\n",
    "        \n",
    "        # check the quantity of playing cards\n",
    "        if cardsNumber > 1 and cardsNumber <= 5:\n",
    "            # creating empty lists of pockemons for user and computer\n",
    "            userPockemonList = []\n",
    "            computerPockemonList = []\n",
    "\n",
    "            # show user's pockemons\n",
    "            print('\\nYour pockemons:')\n",
    "            \n",
    "            for i in range(cardsNumber):\n",
    "                # fill the user pockemon list and show it to user\n",
    "                userPockemonList.append(getStarwars(Choose_Card())) \n",
    "\n",
    "                print(f'\\nPockemon number {i + 1}:\\n')\n",
    "                showCards(userPockemonList[i])\n",
    "\n",
    "                # fill the computer pockemon list\n",
    "                computerPockemonList.append(getStarwars(Choose_Card())) \n",
    "\n",
    "            print()\n"
   ]
  }
 ],
 "metadata": {
  "kernelspec": {
   "display_name": "Python 3",
   "language": "python",
   "name": "python3"
  },
  "language_info": {
   "codemirror_mode": {
    "name": "ipython",
    "version": 3
   },
   "file_extension": ".py",
   "mimetype": "text/x-python",
   "name": "python",
   "nbconvert_exporter": "python",
   "pygments_lexer": "ipython3",
   "version": "3.10.12"
  }
 },
 "nbformat": 4,
 "nbformat_minor": 2
}
